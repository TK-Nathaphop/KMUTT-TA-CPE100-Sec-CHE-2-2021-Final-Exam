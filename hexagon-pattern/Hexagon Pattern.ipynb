{
 "cells": [
  {
   "cell_type": "markdown",
   "metadata": {},
   "source": [
    "# Solution"
   ]
  },
  {
   "cell_type": "code",
   "execution_count": 61,
   "metadata": {},
   "outputs": [
    {
     "name": "stdout",
     "output_type": "stream",
     "text": [
      "5\n",
      ".###..###..###..###..***.\n",
      "#.1.##.2.##.3.##.4.#*.5.*\n",
      ".###..###..###..###..***."
     ]
    }
   ],
   "source": [
    "n = int(input())\n",
    "for i in range(1,n+1):\n",
    "    if i % 5 == 0:\n",
    "        print(\".***.\", end = '')\n",
    "    else:\n",
    "        print(\".###.\", end = '')\n",
    "print()\n",
    "for i in range(1,n+1):\n",
    "    if i % 5 == 0:\n",
    "        print(\"*.\"+str(i%10)+\".*\", end='')\n",
    "    else:\n",
    "        print(\"#.\"+str(i%10)+\".#\", end='')\n",
    "print()\n",
    "for i in range(1,n+1):\n",
    "    if i % 5 == 0:\n",
    "        print(\".***.\", end = '')\n",
    "    else:\n",
    "        print(\".###.\", end = '')"
   ]
  },
  {
   "cell_type": "markdown",
   "metadata": {},
   "source": [
    "# Generate test cases"
   ]
  },
  {
   "cell_type": "code",
   "execution_count": 62,
   "metadata": {},
   "outputs": [
    {
     "name": "stdout",
     "output_type": "stream",
     "text": [
      "5\n",
      ".###..###..###..###..***.\n",
      "#.1.##.2.##.3.##.4.#*.5.*\n",
      ".###..###..###..###..***.\n"
     ]
    }
   ],
   "source": [
    "output = ''\n",
    "n = int(input())\n",
    "for i in range(1,n+1):\n",
    "    if i % 5 == 0:\n",
    "        output += \".***.\"\n",
    "    else:\n",
    "        output += \".###.\"\n",
    "output += \"\\n\"\n",
    "for i in range(1,n+1):\n",
    "    if i % 5 == 0:\n",
    "        output += \"*.\"+str(i%10)+\".*\"\n",
    "    else:\n",
    "        output += \"#.\"+str(i%10)+\".#\"\n",
    "output += \"\\n\"\n",
    "for i in range(1,n+1):\n",
    "    if i % 5 == 0:\n",
    "        output += \".***.\"\n",
    "    else:\n",
    "        output += \".###.\"\n",
    "print(output)"
   ]
  },
  {
   "cell_type": "code",
   "execution_count": 59,
   "metadata": {},
   "outputs": [],
   "source": [
    "f = open(\"input.txt\", \"w\")\n",
    "f.write(str(n))\n",
    "f.close()"
   ]
  },
  {
   "cell_type": "code",
   "execution_count": 60,
   "metadata": {},
   "outputs": [],
   "source": [
    "f = open(\"output.txt\", \"w\")\n",
    "f.write(output)\n",
    "f.close()"
   ]
  }
 ],
 "metadata": {
  "kernelspec": {
   "display_name": "Python 3",
   "language": "python",
   "name": "python3"
  },
  "language_info": {
   "codemirror_mode": {
    "name": "ipython",
    "version": 3
   },
   "file_extension": ".py",
   "mimetype": "text/x-python",
   "name": "python",
   "nbconvert_exporter": "python",
   "pygments_lexer": "ipython3",
   "version": "3.7.9"
  }
 },
 "nbformat": 4,
 "nbformat_minor": 4
}
