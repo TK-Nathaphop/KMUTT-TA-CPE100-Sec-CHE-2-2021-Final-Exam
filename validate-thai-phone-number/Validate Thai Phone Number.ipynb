{
 "cells": [
  {
   "cell_type": "markdown",
   "metadata": {},
   "source": [
    "# Solution 1\n",
    "Use regex"
   ]
  },
  {
   "cell_type": "code",
   "execution_count": 2,
   "metadata": {},
   "outputs": [
    {
     "name": "stdout",
     "output_type": "stream",
     "text": [
      "085-908-4562\n",
      "yes\n"
     ]
    }
   ],
   "source": [
    "import re\n",
    "\n",
    "def checkPhone(s):\n",
    "    regex = re.compile('0[8,9,6][0-9]-[0-9][0-9][0-9]-[0-9][0-9][0-9][0-9]$')\n",
    "    match = bool(regex.match(str(s)))\n",
    "    return \"yes\" if match else \"no\"\n",
    "\n",
    "s = input()\n",
    "result = checkPhone(s)\n",
    "print(result)    "
   ]
  },
  {
   "cell_type": "markdown",
   "metadata": {},
   "source": [
    "# Solution 2\n",
    "Use isdigit"
   ]
  },
  {
   "cell_type": "code",
   "execution_count": 108,
   "metadata": {},
   "outputs": [
    {
     "name": "stdout",
     "output_type": "stream",
     "text": [
      "089-999-9999\n",
      "yes\n"
     ]
    }
   ],
   "source": [
    "def checkPhone(s):\n",
    "    if len(s) != 12:\n",
    "        return \"no\"\n",
    "    elif s[0] != '0':\n",
    "        return \"no\"\n",
    "    elif s[1] not in '689':\n",
    "        return \"no\"\n",
    "    elif not s[2].isdigit():\n",
    "        return \"no\"\n",
    "    elif s[3] != \"-\":\n",
    "        return \"no\"\n",
    "    elif not s[4:7].isdigit():\n",
    "        return \"no\"\n",
    "    elif s[7] != \"-\":\n",
    "        return \"no\"\n",
    "    elif not s[8:12].isdigit():\n",
    "        return \"no\"\n",
    "    elif s[12:] != '':\n",
    "        return \"no\"\n",
    "    else:\n",
    "        return \"yes\"   \n",
    "        \n",
    "s = input()\n",
    "result = checkPhone(s)\n",
    "print(result)    "
   ]
  },
  {
   "cell_type": "markdown",
   "metadata": {},
   "source": [
    "# Create test case"
   ]
  },
  {
   "cell_type": "code",
   "execution_count": 3,
   "metadata": {},
   "outputs": [],
   "source": [
    "import random\n",
    "test_cases = [\"081-234-5678\",\n",
    "              \"071-234-5678\",\n",
    "              \"02-234-5678\",\n",
    "              \"0XX-234-5678\",\n",
    "              \"0818-234-678\",\n",
    "              \"081-2234-678\",\n",
    "              \"081-23-25678\",\n",
    "              \"08-1234-5678\",\n",
    "              \"0-81234-5678\",\n",
    "              \"Helloit'sme\",\n",
    "              \"XXX-XXX-XXXX\",\n",
    "              \"088-888-8888\",\n",
    "              \"081-123-1234\",\n",
    "              \"062-767-1234\",\n",
    "              \"0819876543\",\n",
    "              \"066-666-6666\",\n",
    "              \"088-888-8888\",\n",
    "              \"099-999-9999\",\n",
    "              \"8-88-888\",\n",
    "              \"08198-76543\",\n",
    "              \"123-456-7890\",\n",
    "              \"023-456-7890\",\n",
    "              \"033-456-7890\",\n",
    "              \"043-456-7890\",\n",
    "              \"053-456-7890\",\n",
    "              \"0\",\n",
    "              \"003-456-7890\",\n",
    "              \"091-965-78988\",\n",
    "              \"087-787-9879hi\",\n",
    "              \"hi087-787-9879\",\n",
    "              \"hi087-7hi87-9879\",\n",
    "              \"!@#$%^&*()\",    \n",
    "              \"063-567-1234\",\n",
    "              \"098-765-4321\",\n",
    "             ]"
   ]
  },
  {
   "cell_type": "code",
   "execution_count": 4,
   "metadata": {},
   "outputs": [
    {
     "name": "stdout",
     "output_type": "stream",
     "text": [
      "085-999-9999vxpiwtogtnqpatqpfw\n",
      "30\n",
      "yrcgjsyjiwuotmgarcjhpizkgeqynr\n",
      "30\n"
     ]
    }
   ],
   "source": [
    "# Generate random string in number\n",
    "test_case='085-999-9999'\n",
    "\n",
    "while len(test_case) < 30:\n",
    "    test_case += chr(random.randrange(97, 97 + 26))\n",
    "print(test_case)\n",
    "print(len(test_case))\n",
    "test_cases.append(test_case)\n",
    "\n",
    "test_case=''\n",
    "\n",
    "while len(test_case) < 30:\n",
    "    test_case += chr(random.randrange(97, 97 + 26))\n",
    "print(test_case)\n",
    "print(len(test_case))\n",
    "test_cases.append(test_case)"
   ]
  },
  {
   "cell_type": "markdown",
   "metadata": {},
   "source": [
    "## Write input and output file"
   ]
  },
  {
   "cell_type": "markdown",
   "metadata": {},
   "source": [
    "### Declaration path and function"
   ]
  },
  {
   "cell_type": "code",
   "execution_count": 9,
   "metadata": {},
   "outputs": [],
   "source": [
    "input_path=\"input\"\n",
    "output_path=\"output\"\n",
    "\n",
    "# Declare 2 functions for checking that solution is correct.\n",
    "def checkPhone1(s):\n",
    "    regex = re.compile('0[8,9,6][0-9]-[0-9][0-9][0-9]-[0-9][0-9][0-9][0-9]$')\n",
    "    match = bool(regex.match(str(s)))\n",
    "    return \"yes\" if match else \"no\"\n",
    "\n",
    "def checkPhone2(s):\n",
    "    if len(s) != 12:\n",
    "        return \"no\"\n",
    "    elif s[0] != '0':\n",
    "        return \"no\"\n",
    "    elif s[1] not in '689':\n",
    "        return \"no\"\n",
    "    elif not s[2].isdigit():\n",
    "        return \"no\"\n",
    "    elif s[3] != \"-\":\n",
    "        return \"no\"\n",
    "    elif not s[4:7].isdigit():\n",
    "        return \"no\"\n",
    "    elif s[7] != \"-\":\n",
    "        return \"no\"\n",
    "    elif not s[8:12].isdigit():\n",
    "        return \"no\"\n",
    "    elif s[12:] != '':\n",
    "        return \"no\"\n",
    "    else:\n",
    "        return \"yes\"   "
   ]
  },
  {
   "cell_type": "code",
   "execution_count": 10,
   "metadata": {},
   "outputs": [
    {
     "name": "stdout",
     "output_type": "stream",
     "text": [
      "081-234-5678 yes\n",
      "071-234-5678 no\n",
      "02-234-5678 no\n",
      "0XX-234-5678 no\n",
      "0818-234-678 no\n",
      "081-2234-678 no\n",
      "081-23-25678 no\n",
      "08-1234-5678 no\n",
      "0-81234-5678 no\n",
      "Helloit'sme no\n",
      "XXX-XXX-XXXX no\n",
      "088-888-8888 yes\n",
      "081-123-1234 yes\n",
      "062-767-1234 yes\n",
      "0819876543 no\n",
      "066-666-6666 yes\n",
      "088-888-8888 yes\n",
      "099-999-9999 yes\n",
      "8-88-888 no\n",
      "08198-76543 no\n",
      "123-456-7890 no\n",
      "023-456-7890 no\n",
      "033-456-7890 no\n",
      "043-456-7890 no\n",
      "053-456-7890 no\n",
      "0 no\n",
      "003-456-7890 no\n",
      "091-965-78988 no\n",
      "087-787-9879hi no\n",
      "hi087-787-9879 no\n",
      "hi087-7hi87-9879 no\n",
      "!@#$%^&*() no\n",
      "063-567-1234 yes\n",
      "098-765-4321 yes\n",
      "085-999-9999vxpiwtogtnqpatqpfw no\n",
      "yrcgjsyjiwuotmgarcjhpizkgeqynr no\n"
     ]
    }
   ],
   "source": [
    "for i in range(len(test_cases)):\n",
    "    res1 = checkPhone1(test_cases[i])\n",
    "    res2 = checkPhone2(test_cases[i])\n",
    "    if res1 == res2:\n",
    "        input_file = open(input_path + \"/input\" + str(i+1) + \".txt\",\"w\")\n",
    "        input_file.writelines(str(test_cases[i]))\n",
    "        input_file.close()\n",
    "        \n",
    "        output_file = open(output_path + \"/output\" + str(i+1) + \".txt\",\"w\")\n",
    "        output_file.writelines(res1)\n",
    "        output_file.close()\n",
    "        \n",
    "        print(test_cases[i], res1)\n",
    "    else:\n",
    "        print(\"ERROR OCCUR, solutions are not the same\")\n",
    "        print(\"Test Case\", test_cases[i])\n",
    "        print(\"Res1\", res1)\n",
    "        print(\"Res2\", res2)\n",
    "        break\n",
    "    \n",
    "    "
   ]
  },
  {
   "cell_type": "code",
   "execution_count": null,
   "metadata": {},
   "outputs": [],
   "source": []
  }
 ],
 "metadata": {
  "kernelspec": {
   "display_name": "Python 3",
   "language": "python",
   "name": "python3"
  },
  "language_info": {
   "codemirror_mode": {
    "name": "ipython",
    "version": 3
   },
   "file_extension": ".py",
   "mimetype": "text/x-python",
   "name": "python",
   "nbconvert_exporter": "python",
   "pygments_lexer": "ipython3",
   "version": "3.7.9"
  }
 },
 "nbformat": 4,
 "nbformat_minor": 4
}
