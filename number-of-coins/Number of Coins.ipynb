{
 "cells": [
  {
   "cell_type": "markdown",
   "metadata": {},
   "source": [
    "# Solution 1"
   ]
  },
  {
   "cell_type": "code",
   "execution_count": 74,
   "metadata": {},
   "outputs": [
    {
     "name": "stdout",
     "output_type": "stream",
     "text": [
      "3288\n",
      "328 1 1 1\n"
     ]
    }
   ],
   "source": [
    "n=input()\n",
    "money=n\n",
    "coin = [0,0,0,0]\n",
    "coin[0] = int(money[:-1]) if money[:-1] != '' else 0\n",
    "\n",
    "money= int(money[-1:])\n",
    "\n",
    "while money >= 5:\n",
    "    coin[1] = 1\n",
    "    money = money - 5\n",
    "\n",
    "while money >= 2:\n",
    "    coin[2]+=1\n",
    "    money = money - 2\n",
    "    \n",
    "while money >= 1:\n",
    "    coin[3] = 1\n",
    "    money = money - 1\n",
    "   \n",
    "print(coin[0],coin[1],coin[2],coin[3])"
   ]
  },
  {
   "cell_type": "markdown",
   "metadata": {},
   "source": [
    "# Solution 2"
   ]
  },
  {
   "cell_type": "code",
   "execution_count": 70,
   "metadata": {},
   "outputs": [
    {
     "name": "stdout",
     "output_type": "stream",
     "text": [
      "1\n",
      "0 0 0 1\n"
     ]
    }
   ],
   "source": [
    "money=int(input())\n",
    "coin = [0,0,0,0]\n",
    "\n",
    "while money >= 10:\n",
    "    coin[0] += 1\n",
    "    money = money - 10\n",
    "    \n",
    "while money >= 5:\n",
    "    coin[1] += 1\n",
    "    money = money - 5\n",
    "\n",
    "while money >= 2:\n",
    "    coin[2] += 1\n",
    "    money = money - 2\n",
    "    \n",
    "while money >= 1:\n",
    "    coin[3] += 1\n",
    "    money = money - 1\n",
    "   \n",
    "print(coin[0],coin[1],coin[2],coin[3])"
   ]
  },
  {
   "cell_type": "markdown",
   "metadata": {},
   "source": [
    "# Generate test case"
   ]
  },
  {
   "cell_type": "code",
   "execution_count": 75,
   "metadata": {},
   "outputs": [],
   "source": [
    "f = open(\"input.txt\", \"w\")\n",
    "f.write(str(n))\n",
    "f.close()"
   ]
  },
  {
   "cell_type": "code",
   "execution_count": 76,
   "metadata": {},
   "outputs": [],
   "source": [
    "f = open(\"output.txt\", \"w\")\n",
    "f.write(str(coin[0])+\" \"+str(coin[1])+\" \"+str(coin[2])+\" \"+str(coin[3]))\n",
    "f.close()"
   ]
  },
  {
   "cell_type": "code",
   "execution_count": null,
   "metadata": {},
   "outputs": [],
   "source": []
  }
 ],
 "metadata": {
  "kernelspec": {
   "display_name": "Python 3",
   "language": "python",
   "name": "python3"
  },
  "language_info": {
   "codemirror_mode": {
    "name": "ipython",
    "version": 3
   },
   "file_extension": ".py",
   "mimetype": "text/x-python",
   "name": "python",
   "nbconvert_exporter": "python",
   "pygments_lexer": "ipython3",
   "version": "3.7.9"
  }
 },
 "nbformat": 4,
 "nbformat_minor": 4
}
