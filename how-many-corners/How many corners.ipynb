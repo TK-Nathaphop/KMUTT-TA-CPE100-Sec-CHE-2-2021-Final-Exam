{
 "cells": [
  {
   "cell_type": "markdown",
   "metadata": {},
   "source": [
    "# Solution 1\n",
    "using lists"
   ]
  },
  {
   "cell_type": "code",
   "execution_count": 9,
   "metadata": {},
   "outputs": [
    {
     "name": "stdout",
     "output_type": "stream",
     "text": [
      "4\n",
      "a 5\n",
      "b 10\n",
      "c 15\n",
      "d 20\n",
      "3\n",
      "a\n",
      "a\n",
      "a\n",
      "15\n"
     ]
    }
   ],
   "source": [
    "n = int(input())\n",
    "shapes = []\n",
    "corners = []\n",
    "for i in range(n):\n",
    "    shape, corner = input().split()\n",
    "    shapes.append(shape)\n",
    "    corners.append(int(corner))\n",
    "\n",
    "corner_count = 0\n",
    "m = int(input())\n",
    "for _ in range(m):\n",
    "    shape = input()\n",
    "    pos = shapes.index(shape)\n",
    "    corner_count += corners[pos]\n",
    "print(corner_count)"
   ]
  },
  {
   "cell_type": "markdown",
   "metadata": {},
   "source": [
    "# Solution 2\n",
    "using dictionary"
   ]
  },
  {
   "cell_type": "code",
   "execution_count": 5,
   "metadata": {},
   "outputs": [
    {
     "name": "stdout",
     "output_type": "stream",
     "text": [
      "4\n",
      "a 5\n",
      "b 10\n",
      "c 15\n",
      "d 20\n",
      "3\n",
      "a\n",
      "a\n",
      "a\n",
      "15\n"
     ]
    }
   ],
   "source": [
    "n = int(input())\n",
    "shapes = {}\n",
    "for _ in range(n):\n",
    "    shape, corner = input().split()\n",
    "    shapes[shape] = int(corner)\n",
    "\n",
    "corner_count = 0\n",
    "m = int(input())\n",
    "for _ in range(m):\n",
    "    shape = input()\n",
    "    corner_count += shapes[shape]\n",
    "print(corner_count)"
   ]
  },
  {
   "cell_type": "markdown",
   "metadata": {},
   "source": [
    "# Create test cases"
   ]
  },
  {
   "cell_type": "code",
   "execution_count": 1,
   "metadata": {},
   "outputs": [],
   "source": [
    "import random"
   ]
  },
  {
   "cell_type": "code",
   "execution_count": 34,
   "metadata": {},
   "outputs": [],
   "source": [
    "# Generate basic test_case\n",
    "shape_test_1 = [['Circle 0', 'Triangle 3', 'Square 4', 'Rectangle 4', 'Pentagon 5', 'Hexagon 6'],\n",
    "               ['Square_Pyramid 5', 'Cube 8', 'Sphere 0', 'Triangle_Prism 6']]\n",
    "\n",
    "\n",
    "shape_draw_test_1 = [['Circle','Triangle','Square','Square','Triangle'],\n",
    "                    ['Triangle_Prism', 'Square_Pyramid', 'Cube', 'Cube', 'Sphere', 'Cube']]\n",
    "\n"
   ]
  },
  {
   "cell_type": "code",
   "execution_count": 89,
   "metadata": {},
   "outputs": [],
   "source": [
    "#Generate advanced test_case\n",
    "shape_name = ['Circle', 'Triangle', 'Square', 'Rectangle', 'Pentagon', 'Hexagon', 'Heptagon', 'Octagon', 'Star', 'rhombus', 'Square_Pyramid', 'Cube', 'Sphere', 'Triangle_Prism']\n",
    "shape_corner = [['Circle 0', 'Triangle 3', 'Square 4', 'Rectangle 4', 'Pentagon 5', 'Hexagon 6',\n",
    "                'Heptagon 7', 'Octagon 8','Star 10','rhombus 4', 'Square_Pyramid 5', 'Cube 8',\n",
    "                'Sphere 0', 'Triangle_Prism 6']]\n",
    "\n",
    "shape_draw_test_2 = [['Circle','Triangle','Square','Square','Triangle', 'Triangle_Prism',\n",
    "                     'Square_Pyramid', 'Cube', 'Cube', 'Sphere', 'Cube', 'Cube', 'rhombus','Sphere',\n",
    "                     'Square_Pyramid','Heptagon', 'Octagon'],\n",
    "                     ['Circle', 'Circle', 'Circle'],\n",
    "                    ['Sphere', 'Circle'],\n",
    "                     random.choices(shape_name, k=1),\n",
    "                     random.choices(shape_name, k=10),\n",
    "                     random.choices(shape_name, k=50),\n",
    "                     random.choices(shape_name, k=100),\n",
    "                    ]\n",
    "shape_test_2 = []\n",
    "for _ in range(len(shape_draw_test_2)):\n",
    "    shape_test_2 += shape_corner"
   ]
  },
  {
   "cell_type": "code",
   "execution_count": 95,
   "metadata": {},
   "outputs": [],
   "source": [
    "# Generate random test_case\n",
    "shape_name = ['A1','B2','C3','D4','E5','F','G','H','I', 'J','K','L','M','N','O','P','Q','R','S','T','U','V','W','X','Y','Z',\n",
    "               'abcdefghijklmnopqrstuvwxyz1234','123456789_ABCabc', '1234567890','_']\n",
    "corner_random = list(range(11))\n",
    "shape_test_3 = []\n",
    "shape_draw_test_3 = []\n",
    "\n",
    "k = [1,5, 10, 15, 20, 30]\n",
    "l = [10, 50, 100]\n",
    "\n",
    "for i in k:\n",
    "    shape_test_case = []\n",
    "    random_shape_name = []\n",
    "    \n",
    "    for element in random.sample(shape_name, i):\n",
    "        test_case = str(element) + ' ' + str(random.choice(corner_random))\n",
    "        random_shape_name.append(element)\n",
    "        shape_test_case.append(test_case)\n",
    "\n",
    "    for j in l:\n",
    "        shape_test_3.append(shape_test_case)\n",
    "        shape_draw_test_3.append(random.choices(random_shape_name, k=j))\n",
    "    "
   ]
  },
  {
   "cell_type": "code",
   "execution_count": 96,
   "metadata": {},
   "outputs": [],
   "source": [
    "# Gather all test_case\n",
    "shape_test_cases = shape_test_1 + shape_test_2 +  shape_test_3\n",
    "shape_draw_test_cases = shape_draw_test_1 + shape_draw_test_2 +  shape_draw_test_3"
   ]
  },
  {
   "cell_type": "code",
   "execution_count": 97,
   "metadata": {},
   "outputs": [],
   "source": [
    "# Create function for solution\n",
    "def corner_count(n, shapes_input, m, shapes_draw):\n",
    "    print(n, shapes_input, m, shapes_draw)\n",
    "    n = int(n)\n",
    "    shapes = []\n",
    "    corners = []\n",
    "    for i in range(n):\n",
    "        shape, corner = shapes_input[i].split()\n",
    "        shapes.append(shape)\n",
    "        corners.append(int(corner))\n",
    "\n",
    "    corner_count = 0\n",
    "    m = int(m)\n",
    "    for i in range(m):\n",
    "        shape = shapes_draw[i]\n",
    "        pos = shapes.index(shape)\n",
    "        corner_count += corners[pos]\n",
    "    return corner_count"
   ]
  },
  {
   "cell_type": "code",
   "execution_count": 98,
   "metadata": {},
   "outputs": [
    {
     "name": "stdout",
     "output_type": "stream",
     "text": [
      "4 ['Triangle 3', 'Square 4', 'Pentagon 5', 'Circle 0'] 6 ['Triangle', 'Circle', 'Circle', 'Square', 'Square', 'Pentagon']\n"
     ]
    },
    {
     "data": {
      "text/plain": [
       "16"
      ]
     },
     "execution_count": 98,
     "metadata": {},
     "output_type": "execute_result"
    }
   ],
   "source": [
    "# test Fn\n",
    "corner_count(4, ['Triangle 3', 'Square 4', 'Pentagon 5','Circle 0'], 6, ['Triangle','Circle','Circle','Square','Square','Pentagon'])"
   ]
  },
  {
   "cell_type": "code",
   "execution_count": 100,
   "metadata": {},
   "outputs": [
    {
     "name": "stdout",
     "output_type": "stream",
     "text": [
      "6 ['Circle 0', 'Triangle 3', 'Square 4', 'Rectangle 4', 'Pentagon 5', 'Hexagon 6'] 5 ['Circle', 'Triangle', 'Square', 'Square', 'Triangle']\n",
      "File:1.txt 14\n",
      "4 ['Square_Pyramid 5', 'Cube 8', 'Sphere 0', 'Triangle_Prism 6'] 6 ['Triangle_Prism', 'Square_Pyramid', 'Cube', 'Cube', 'Sphere', 'Cube']\n",
      "File:2.txt 35\n",
      "14 ['Circle 0', 'Triangle 3', 'Square 4', 'Rectangle 4', 'Pentagon 5', 'Hexagon 6', 'Heptagon 7', 'Octagon 8', 'Star 10', 'rhombus 4', 'Square_Pyramid 5', 'Cube 8', 'Sphere 0', 'Triangle_Prism 6'] 17 ['Circle', 'Triangle', 'Square', 'Square', 'Triangle', 'Triangle_Prism', 'Square_Pyramid', 'Cube', 'Cube', 'Sphere', 'Cube', 'Cube', 'rhombus', 'Sphere', 'Square_Pyramid', 'Heptagon', 'Octagon']\n",
      "File:3.txt 81\n",
      "14 ['Circle 0', 'Triangle 3', 'Square 4', 'Rectangle 4', 'Pentagon 5', 'Hexagon 6', 'Heptagon 7', 'Octagon 8', 'Star 10', 'rhombus 4', 'Square_Pyramid 5', 'Cube 8', 'Sphere 0', 'Triangle_Prism 6'] 3 ['Circle', 'Circle', 'Circle']\n",
      "File:4.txt 0\n",
      "14 ['Circle 0', 'Triangle 3', 'Square 4', 'Rectangle 4', 'Pentagon 5', 'Hexagon 6', 'Heptagon 7', 'Octagon 8', 'Star 10', 'rhombus 4', 'Square_Pyramid 5', 'Cube 8', 'Sphere 0', 'Triangle_Prism 6'] 2 ['Sphere', 'Circle']\n",
      "File:5.txt 0\n",
      "14 ['Circle 0', 'Triangle 3', 'Square 4', 'Rectangle 4', 'Pentagon 5', 'Hexagon 6', 'Heptagon 7', 'Octagon 8', 'Star 10', 'rhombus 4', 'Square_Pyramid 5', 'Cube 8', 'Sphere 0', 'Triangle_Prism 6'] 1 ['Square']\n",
      "File:6.txt 4\n",
      "14 ['Circle 0', 'Triangle 3', 'Square 4', 'Rectangle 4', 'Pentagon 5', 'Hexagon 6', 'Heptagon 7', 'Octagon 8', 'Star 10', 'rhombus 4', 'Square_Pyramid 5', 'Cube 8', 'Sphere 0', 'Triangle_Prism 6'] 10 ['Pentagon', 'Octagon', 'Triangle', 'Triangle', 'Rectangle', 'Square', 'Hexagon', 'Circle', 'Cube', 'Sphere']\n",
      "File:7.txt 41\n",
      "14 ['Circle 0', 'Triangle 3', 'Square 4', 'Rectangle 4', 'Pentagon 5', 'Hexagon 6', 'Heptagon 7', 'Octagon 8', 'Star 10', 'rhombus 4', 'Square_Pyramid 5', 'Cube 8', 'Sphere 0', 'Triangle_Prism 6'] 50 ['Pentagon', 'Pentagon', 'rhombus', 'Hexagon', 'Triangle_Prism', 'Octagon', 'Rectangle', 'Cube', 'Square_Pyramid', 'rhombus', 'Triangle', 'Square_Pyramid', 'Star', 'rhombus', 'Square', 'Star', 'Triangle', 'Heptagon', 'Triangle_Prism', 'Heptagon', 'rhombus', 'Sphere', 'Star', 'Hexagon', 'Pentagon', 'Triangle_Prism', 'Triangle', 'Hexagon', 'Heptagon', 'Star', 'Square_Pyramid', 'Star', 'Triangle', 'Heptagon', 'Circle', 'rhombus', 'Heptagon', 'Square_Pyramid', 'Triangle', 'Square_Pyramid', 'Octagon', 'Square', 'Heptagon', 'Hexagon', 'Circle', 'Sphere', 'Rectangle', 'Circle', 'Sphere', 'Cube']\n",
      "File:8.txt 257\n",
      "14 ['Circle 0', 'Triangle 3', 'Square 4', 'Rectangle 4', 'Pentagon 5', 'Hexagon 6', 'Heptagon 7', 'Octagon 8', 'Star 10', 'rhombus 4', 'Square_Pyramid 5', 'Cube 8', 'Sphere 0', 'Triangle_Prism 6'] 100 ['Heptagon', 'Triangle_Prism', 'Square_Pyramid', 'rhombus', 'Rectangle', 'Triangle_Prism', 'Pentagon', 'Square', 'Pentagon', 'Circle', 'Circle', 'Pentagon', 'Rectangle', 'Cube', 'Hexagon', 'Heptagon', 'Pentagon', 'rhombus', 'Octagon', 'rhombus', 'Sphere', 'Star', 'Square', 'Triangle_Prism', 'Square_Pyramid', 'Star', 'Octagon', 'Rectangle', 'Square_Pyramid', 'Circle', 'Triangle', 'Sphere', 'Square', 'Heptagon', 'Circle', 'Hexagon', 'Cube', 'rhombus', 'Rectangle', 'Square', 'rhombus', 'rhombus', 'rhombus', 'rhombus', 'Triangle_Prism', 'Hexagon', 'Cube', 'Cube', 'Star', 'Triangle_Prism', 'Heptagon', 'rhombus', 'Circle', 'Sphere', 'Pentagon', 'Triangle_Prism', 'Cube', 'Star', 'Square_Pyramid', 'Triangle_Prism', 'Heptagon', 'Circle', 'Triangle_Prism', 'Triangle', 'Hexagon', 'Square', 'Octagon', 'Hexagon', 'Pentagon', 'Heptagon', 'Octagon', 'Triangle', 'Octagon', 'Circle', 'Star', 'Octagon', 'Cube', 'Octagon', 'Pentagon', 'Octagon', 'Pentagon', 'Octagon', 'Sphere', 'Octagon', 'rhombus', 'Circle', 'Heptagon', 'Rectangle', 'Square_Pyramid', 'Square_Pyramid', 'rhombus', 'Cube', 'Octagon', 'Square_Pyramid', 'Star', 'Heptagon', 'Heptagon', 'Sphere', 'rhombus', 'Cube']\n",
      "File:9.txt 525\n",
      "1 ['W 2'] 10 ['W', 'W', 'W', 'W', 'W', 'W', 'W', 'W', 'W', 'W']\n",
      "File:10.txt 20\n",
      "1 ['W 2'] 50 ['W', 'W', 'W', 'W', 'W', 'W', 'W', 'W', 'W', 'W', 'W', 'W', 'W', 'W', 'W', 'W', 'W', 'W', 'W', 'W', 'W', 'W', 'W', 'W', 'W', 'W', 'W', 'W', 'W', 'W', 'W', 'W', 'W', 'W', 'W', 'W', 'W', 'W', 'W', 'W', 'W', 'W', 'W', 'W', 'W', 'W', 'W', 'W', 'W', 'W']\n",
      "File:11.txt 100\n",
      "1 ['W 2'] 100 ['W', 'W', 'W', 'W', 'W', 'W', 'W', 'W', 'W', 'W', 'W', 'W', 'W', 'W', 'W', 'W', 'W', 'W', 'W', 'W', 'W', 'W', 'W', 'W', 'W', 'W', 'W', 'W', 'W', 'W', 'W', 'W', 'W', 'W', 'W', 'W', 'W', 'W', 'W', 'W', 'W', 'W', 'W', 'W', 'W', 'W', 'W', 'W', 'W', 'W', 'W', 'W', 'W', 'W', 'W', 'W', 'W', 'W', 'W', 'W', 'W', 'W', 'W', 'W', 'W', 'W', 'W', 'W', 'W', 'W', 'W', 'W', 'W', 'W', 'W', 'W', 'W', 'W', 'W', 'W', 'W', 'W', 'W', 'W', 'W', 'W', 'W', 'W', 'W', 'W', 'W', 'W', 'W', 'W', 'W', 'W', 'W', 'W', 'W', 'W']\n",
      "File:12.txt 200\n",
      "5 ['1234567890 0', 'A1 9', 'I 9', '123456789_ABCabc 0', 'M 3'] 10 ['M', '1234567890', 'I', '123456789_ABCabc', '123456789_ABCabc', '1234567890', 'I', 'M', 'A1', '1234567890']\n",
      "File:13.txt 33\n",
      "5 ['1234567890 0', 'A1 9', 'I 9', '123456789_ABCabc 0', 'M 3'] 50 ['123456789_ABCabc', '123456789_ABCabc', '1234567890', 'I', '123456789_ABCabc', '123456789_ABCabc', '123456789_ABCabc', '123456789_ABCabc', 'I', 'I', '123456789_ABCabc', '1234567890', 'A1', 'I', '123456789_ABCabc', '123456789_ABCabc', 'M', 'A1', 'I', '123456789_ABCabc', 'A1', 'I', 'I', '123456789_ABCabc', '123456789_ABCabc', '1234567890', '1234567890', 'I', 'I', '123456789_ABCabc', 'I', 'I', 'A1', 'M', 'I', '123456789_ABCabc', '123456789_ABCabc', 'I', 'M', 'M', '1234567890', 'M', 'A1', '1234567890', '1234567890', 'I', '1234567890', 'A1', 'A1', '123456789_ABCabc']\n",
      "File:14.txt 204\n",
      "5 ['1234567890 0', 'A1 9', 'I 9', '123456789_ABCabc 0', 'M 3'] 100 ['A1', '123456789_ABCabc', 'M', '123456789_ABCabc', '1234567890', '123456789_ABCabc', 'I', '1234567890', '1234567890', 'A1', '123456789_ABCabc', '123456789_ABCabc', 'M', 'M', 'M', '1234567890', '123456789_ABCabc', '123456789_ABCabc', 'A1', 'A1', '123456789_ABCabc', 'A1', 'I', 'M', 'I', 'A1', 'I', '123456789_ABCabc', 'I', 'I', 'A1', '1234567890', '123456789_ABCabc', '1234567890', 'M', 'A1', 'M', 'M', '1234567890', '123456789_ABCabc', '1234567890', '123456789_ABCabc', 'A1', '123456789_ABCabc', 'M', '123456789_ABCabc', '123456789_ABCabc', 'M', 'A1', 'M', 'A1', 'A1', 'A1', 'A1', 'A1', 'M', 'M', 'M', 'I', 'I', 'A1', 'A1', 'A1', '1234567890', 'A1', '123456789_ABCabc', '123456789_ABCabc', 'I', '1234567890', 'A1', '1234567890', 'A1', 'M', '123456789_ABCabc', '1234567890', 'I', '1234567890', '1234567890', '123456789_ABCabc', 'M', '1234567890', 'I', '123456789_ABCabc', '1234567890', '123456789_ABCabc', '123456789_ABCabc', 'A1', 'A1', 'M', '1234567890', '1234567890', '1234567890', 'A1', '1234567890', 'A1', '1234567890', '123456789_ABCabc', 'I', '123456789_ABCabc', 'M']\n",
      "File:15.txt 387\n",
      "10 ['Y 1', 'C3 7', 'V 1', 'X 4', 'abcdefghijklmnopqrstuvwxyz1234 7', 'E5 0', '1234567890 6', 'S 7', '123456789_ABCabc 4', 'G 8'] 10 ['G', 'abcdefghijklmnopqrstuvwxyz1234', '123456789_ABCabc', '1234567890', 'abcdefghijklmnopqrstuvwxyz1234', '123456789_ABCabc', 'E5', 'E5', 'V', 'S']\n",
      "File:16.txt 44\n",
      "10 ['Y 1', 'C3 7', 'V 1', 'X 4', 'abcdefghijklmnopqrstuvwxyz1234 7', 'E5 0', '1234567890 6', 'S 7', '123456789_ABCabc 4', 'G 8'] 50 ['Y', 'Y', 'C3', '123456789_ABCabc', 'abcdefghijklmnopqrstuvwxyz1234', 'E5', 'G', 'E5', 'S', '1234567890', 'V', 'E5', 'G', 'E5', '123456789_ABCabc', '1234567890', '123456789_ABCabc', 'X', '1234567890', 'S', 'C3', 'E5', '123456789_ABCabc', 'E5', 'E5', 'X', 'S', 'abcdefghijklmnopqrstuvwxyz1234', 'V', 'C3', '123456789_ABCabc', '1234567890', 'V', 'S', 'S', 'X', 'V', 'X', 'Y', 'S', 'G', '1234567890', 'G', '1234567890', 'V', 'E5', 'G', 'abcdefghijklmnopqrstuvwxyz1234', 'V', 'G']\n",
      "File:17.txt 213\n",
      "10 ['Y 1', 'C3 7', 'V 1', 'X 4', 'abcdefghijklmnopqrstuvwxyz1234 7', 'E5 0', '1234567890 6', 'S 7', '123456789_ABCabc 4', 'G 8'] 100 ['E5', 'C3', 'E5', 'E5', 'G', '123456789_ABCabc', 'V', '1234567890', '1234567890', '123456789_ABCabc', 'V', 'S', '123456789_ABCabc', '123456789_ABCabc', 'C3', 'S', '1234567890', 'E5', '123456789_ABCabc', 'G', 'E5', '123456789_ABCabc', 'S', 'V', 'G', 'abcdefghijklmnopqrstuvwxyz1234', 'C3', 'X', 'X', 'X', 'E5', 'V', 'abcdefghijklmnopqrstuvwxyz1234', '123456789_ABCabc', 'S', 'V', 'G', 'abcdefghijklmnopqrstuvwxyz1234', '1234567890', '1234567890', 'S', 'X', 'C3', 'X', 'abcdefghijklmnopqrstuvwxyz1234', 'Y', 'X', '1234567890', 'S', '1234567890', 'E5', 'V', '1234567890', '123456789_ABCabc', 'S', 'S', 'G', 'E5', 'C3', 'G', 'E5', 'Y', 'V', 'E5', 'Y', '123456789_ABCabc', 'V', 'E5', '123456789_ABCabc', 'G', 'abcdefghijklmnopqrstuvwxyz1234', 'abcdefghijklmnopqrstuvwxyz1234', 'C3', '1234567890', 'abcdefghijklmnopqrstuvwxyz1234', 'V', 'C3', 'Y', '123456789_ABCabc', '123456789_ABCabc', 'G', 'G', 'S', 'E5', '1234567890', 'E5', '1234567890', 'G', 'C3', 'V', 'V', '1234567890', 'V', 'G', 'G', 'S', 'abcdefghijklmnopqrstuvwxyz1234', 'V', 'abcdefghijklmnopqrstuvwxyz1234', 'S']\n",
      "File:18.txt 453\n",
      "15 ['R 7', 'L 7', 'S 4', 'P 5', 'M 10', 'J 3', '1234567890 8', 'V 0', 'D4 9', 'abcdefghijklmnopqrstuvwxyz1234 1', 'W 6', 'A1 4', 'T 6', 'I 8', 'E5 0'] 10 ['W', 'P', 'P', 'P', 'J', 'R', 'E5', '1234567890', 'D4', 'W']\n",
      "File:19.txt 54\n",
      "15 ['R 7', 'L 7', 'S 4', 'P 5', 'M 10', 'J 3', '1234567890 8', 'V 0', 'D4 9', 'abcdefghijklmnopqrstuvwxyz1234 1', 'W 6', 'A1 4', 'T 6', 'I 8', 'E5 0'] 50 ['A1', 'P', 'V', 'P', 'E5', 'D4', 'R', 'J', 'M', 'E5', 'abcdefghijklmnopqrstuvwxyz1234', 'L', 'W', 'S', 'A1', 'L', '1234567890', 'P', 'W', 'E5', '1234567890', '1234567890', 'P', 'abcdefghijklmnopqrstuvwxyz1234', 'T', 'L', 'J', 'abcdefghijklmnopqrstuvwxyz1234', 'T', 'I', 'W', 'A1', 'R', 'A1', 'P', 'J', 'J', 'M', 'V', 'A1', 'T', 'A1', 'E5', '1234567890', 'R', '1234567890', '1234567890', 'I', 'abcdefghijklmnopqrstuvwxyz1234', 'abcdefghijklmnopqrstuvwxyz1234']\n",
      "File:20.txt 241\n",
      "15 ['R 7', 'L 7', 'S 4', 'P 5', 'M 10', 'J 3', '1234567890 8', 'V 0', 'D4 9', 'abcdefghijklmnopqrstuvwxyz1234 1', 'W 6', 'A1 4', 'T 6', 'I 8', 'E5 0'] 100 ['I', 'E5', 'I', 'T', 'V', 'T', 'A1', 'P', 'abcdefghijklmnopqrstuvwxyz1234', 'A1', 'E5', 'R', 'V', 'P', '1234567890', 'abcdefghijklmnopqrstuvwxyz1234', 'V', 'P', '1234567890', 'R', 'R', 'P', 'R', 'S', 'M', 'W', 'M', 'T', 'R', 'J', 'A1', 'L', 'A1', 'D4', 'V', 'E5', 'W', 'R', 'W', 'I', 'I', 'W', 'W', 'P', 'J', 'abcdefghijklmnopqrstuvwxyz1234', 'I', 'W', '1234567890', 'E5', 'P', '1234567890', '1234567890', 'A1', '1234567890', 'I', 'S', 'I', 'abcdefghijklmnopqrstuvwxyz1234', 'A1', 'S', 'J', 'M', 'M', 'M', 'abcdefghijklmnopqrstuvwxyz1234', 'P', 'J', 'D4', 'D4', 'J', 'J', 'I', 'S', 'P', 'V', 'J', 'W', 'M', 'D4', 'P', 'R', 'W', 'T', 'abcdefghijklmnopqrstuvwxyz1234', 'I', 'J', 'M', 'I', 'R', 'R', '1234567890', 'L', 'I', 'S', 'M', 'S', 'T', 'T', 'W']\n",
      "File:21.txt 550\n",
      "20 ['N 10', '1234567890 5', 'D4 3', 'O 0', 'C3 8', 'I 6', 'V 7', 'S 5', 'Q 6', 'J 9', 'Y 8', 'U 8', 'K 3', 'Z 6', 'G 4', 'W 10', '123456789_ABCabc 3', 'X 0', 'T 9', 'H 2'] 10 ['I', 'X', 'Y', 'W', 'D4', 'W', 'X', '123456789_ABCabc', 'T', 'Y']\n",
      "File:22.txt 57\n",
      "20 ['N 10', '1234567890 5', 'D4 3', 'O 0', 'C3 8', 'I 6', 'V 7', 'S 5', 'Q 6', 'J 9', 'Y 8', 'U 8', 'K 3', 'Z 6', 'G 4', 'W 10', '123456789_ABCabc 3', 'X 0', 'T 9', 'H 2'] 50 ['O', 'I', 'T', '1234567890', '123456789_ABCabc', 'V', 'J', 'G', '123456789_ABCabc', 'H', 'G', 'I', 'J', 'X', 'D4', 'V', 'N', 'G', 'V', 'Q', 'O', 'O', 'G', '123456789_ABCabc', 'W', 'J', 'J', 'V', 'V', 'Q', 'H', 'N', 'X', 'T', 'K', 'I', 'T', 'Q', 'I', 'G', 'K', 'T', 'J', 'J', 'J', 'G', 'I', 'S', 'N', 'Y']\n",
      "File:23.txt 286\n",
      "20 ['N 10', '1234567890 5', 'D4 3', 'O 0', 'C3 8', 'I 6', 'V 7', 'S 5', 'Q 6', 'J 9', 'Y 8', 'U 8', 'K 3', 'Z 6', 'G 4', 'W 10', '123456789_ABCabc 3', 'X 0', 'T 9', 'H 2'] 100 ['T', 'I', '1234567890', 'N', 'O', 'G', 'O', 'U', 'Q', 'J', 'Q', 'G', 'C3', 'Z', '1234567890', 'H', 'I', '1234567890', 'X', 'I', 'I', 'X', 'Y', 'Q', 'Z', 'I', 'V', 'C3', 'K', '123456789_ABCabc', 'V', 'X', 'K', '1234567890', 'T', 'W', '123456789_ABCabc', '123456789_ABCabc', 'I', 'K', 'N', '1234567890', 'S', 'U', 'T', 'I', 'I', 'O', 'U', 'H', 'S', 'N', 'C3', 'Y', 'O', 'K', 'V', 'S', 'G', 'Y', 'S', 'N', '123456789_ABCabc', 'G', '123456789_ABCabc', '1234567890', '1234567890', 'G', 'W', 'X', 'Y', 'N', 'K', '1234567890', '123456789_ABCabc', 'W', 'T', 'W', 'V', '1234567890', 'X', '1234567890', 'U', 'G', 'X', 'K', 'Y', 'N', 'K', 'V', 'S', 'H', 'J', 'S', 'J', 'X', 'N', 'Q', 'S', 'H']\n",
      "File:24.txt 544\n",
      "30 ['A1 4', 'K 8', 'Q 0', 'G 8', 'abcdefghijklmnopqrstuvwxyz1234 2', 'V 1', 'J 0', 'Z 3', 'H 6', '123456789_ABCabc 9', 'R 9', 'F 3', 'Y 9', 'M 5', 'T 0', 'S 5', 'W 10', 'L 10', 'C3 4', 'B2 10', '_ 1', 'E5 8', 'N 0', 'X 8', 'P 1', 'O 10', 'D4 6', 'U 4', 'I 0', '1234567890 0'] 10 ['G', '123456789_ABCabc', 'T', 'N', '1234567890', 'O', 'X', 'J', 'N', 'C3']\n",
      "File:25.txt 39\n",
      "30 ['A1 4', 'K 8', 'Q 0', 'G 8', 'abcdefghijklmnopqrstuvwxyz1234 2', 'V 1', 'J 0', 'Z 3', 'H 6', '123456789_ABCabc 9', 'R 9', 'F 3', 'Y 9', 'M 5', 'T 0', 'S 5', 'W 10', 'L 10', 'C3 4', 'B2 10', '_ 1', 'E5 8', 'N 0', 'X 8', 'P 1', 'O 10', 'D4 6', 'U 4', 'I 0', '1234567890 0'] 50 ['N', 'X', 'I', '1234567890', 'T', 'R', 'A1', 'H', 'G', 'H', 'R', '_', 'H', 'V', 'R', 'H', 'D4', 'U', 'M', '_', 'P', 'Y', 'abcdefghijklmnopqrstuvwxyz1234', 'K', 'V', 'Z', 'O', 'Z', 'T', 'B2', 'J', 'T', 'M', 'L', '1234567890', 'F', 'O', 'Z', 'F', 'E5', 'I', 'Y', 'Z', 'E5', 'R', 'I', '_', 'H', 'F', 'K']\n",
      "File:26.txt 225\n",
      "30 ['A1 4', 'K 8', 'Q 0', 'G 8', 'abcdefghijklmnopqrstuvwxyz1234 2', 'V 1', 'J 0', 'Z 3', 'H 6', '123456789_ABCabc 9', 'R 9', 'F 3', 'Y 9', 'M 5', 'T 0', 'S 5', 'W 10', 'L 10', 'C3 4', 'B2 10', '_ 1', 'E5 8', 'N 0', 'X 8', 'P 1', 'O 10', 'D4 6', 'U 4', 'I 0', '1234567890 0'] 100 ['W', 'E5', 'V', 'W', 'Q', 'U', 'C3', 'O', 'K', 'V', 'C3', 'H', '123456789_ABCabc', 'Z', 'F', 'N', 'B2', 'A1', '123456789_ABCabc', 'G', 'C3', 'P', 'Q', 'A1', 'M', 'G', 'M', 'G', 'E5', 'W', '1234567890', 'B2', '123456789_ABCabc', 'M', 'M', 'C3', 'M', 'O', 'S', 'W', 'abcdefghijklmnopqrstuvwxyz1234', 'I', 'U', 'W', 'T', 'K', 'Z', 'M', 'M', 'L', '1234567890', 'F', 'N', 'X', 'J', 'Y', 'abcdefghijklmnopqrstuvwxyz1234', 'A1', 'G', 'T', 'B2', 'D4', 'X', '123456789_ABCabc', '1234567890', 'C3', 'F', 'H', 'L', 'N', 'Y', 'J', 'D4', 'H', 'P', 'K', 'D4', 'X', 'R', 'F', 'H', 'G', 'abcdefghijklmnopqrstuvwxyz1234', 'abcdefghijklmnopqrstuvwxyz1234', 'A1', 'I', 'W', 'V', 'U', 'L', 'Y', '1234567890', 'H', '123456789_ABCabc', 'Q', 'H', '123456789_ABCabc', 'U', 'P', 'Q']\n",
      "File:27.txt 512\n"
     ]
    }
   ],
   "source": [
    "input_path=\"input\"\n",
    "output_path=\"output\"\n",
    "\n",
    "for i in range(len(shape_test_cases)):\n",
    "    input_file = open(input_path + \"/input\" + str(i+1) + \".txt\",\"w\")\n",
    "    \n",
    "    # Write shape\n",
    "    input_file.writelines(str(len(shape_test_cases[i]))+'\\n')\n",
    "    for test_case in shape_test_cases[i]:\n",
    "        input_file.writelines(test_case + '\\n')\n",
    "    \n",
    "    # Write shape_draw\n",
    "    input_file.writelines(str(len(shape_draw_test_cases[i]))+'\\n')\n",
    "    for test_case in shape_draw_test_cases[i]:\n",
    "        input_file.writelines(test_case + '\\n')\n",
    "    input_file.close()\n",
    "    \n",
    "    res = corner_count(len(shape_test_cases[i]),\n",
    "                       shape_test_cases[i],\n",
    "                       len(shape_draw_test_cases[i]),\n",
    "                       shape_draw_test_cases[i]\n",
    "                      )\n",
    "\n",
    "    output_file = open(output_path + \"/output\" + str(i+1) + \".txt\",\"w\")\n",
    "    output_file.writelines(str(res))\n",
    "    output_file.close()\n",
    "\n",
    "    print(\"File:\" + str(i+1) + \".txt\", res)"
   ]
  },
  {
   "cell_type": "code",
   "execution_count": null,
   "metadata": {},
   "outputs": [],
   "source": []
  }
 ],
 "metadata": {
  "kernelspec": {
   "display_name": "Python 3",
   "language": "python",
   "name": "python3"
  },
  "language_info": {
   "codemirror_mode": {
    "name": "ipython",
    "version": 3
   },
   "file_extension": ".py",
   "mimetype": "text/x-python",
   "name": "python",
   "nbconvert_exporter": "python",
   "pygments_lexer": "ipython3",
   "version": "3.7.9"
  }
 },
 "nbformat": 4,
 "nbformat_minor": 4
}
