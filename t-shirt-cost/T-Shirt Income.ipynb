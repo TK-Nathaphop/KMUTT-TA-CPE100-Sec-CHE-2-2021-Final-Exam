{
 "cells": [
  {
   "cell_type": "markdown",
   "metadata": {},
   "source": [
    "# Solution"
   ]
  },
  {
   "cell_type": "code",
   "execution_count": 5,
   "metadata": {},
   "outputs": [
    {
     "name": "stdout",
     "output_type": "stream",
     "text": [
      "5\n",
      "S\n",
      "S\n",
      "S\n",
      "S\n",
      "S\n",
      "250\n"
     ]
    }
   ],
   "source": [
    "n = int(input())\n",
    "s = 0\n",
    "m = 0\n",
    "l = 0\n",
    "for _ in range(n):\n",
    "    size=input()\n",
    "    if size == 'S':\n",
    "        s += 1\n",
    "    elif size == 'M':\n",
    "        m += 1\n",
    "    else:\n",
    "        l += 1\n",
    "print(s*50 + m*60 + l*70)"
   ]
  },
  {
   "cell_type": "markdown",
   "metadata": {},
   "source": [
    "# Create test cases\n",
    "Required folder name `input` and `output`"
   ]
  },
  {
   "cell_type": "code",
   "execution_count": 17,
   "metadata": {},
   "outputs": [],
   "source": [
    "import random"
   ]
  },
  {
   "cell_type": "code",
   "execution_count": 20,
   "metadata": {},
   "outputs": [],
   "source": [
    "n = 100\n",
    "sizes = ['S','M','L']\n",
    "test_cases = [['S','M','L'],\n",
    "              ['S','S','M','L'],\n",
    "              [],\n",
    "              ['S'],\n",
    "              ['M'],\n",
    "              ['L'],\n",
    "              ['S','M','L'],\n",
    "              ['S','S','S','S','S'],\n",
    "              ['M','M','M','M','M'],\n",
    "              ['L','L','L','L','L'],\n",
    "              random.choices(sizes, k=10),\n",
    "              random.choices(sizes, k=25),\n",
    "              random.choices(sizes, k=50),\n",
    "              random.choices(sizes, k=75),\n",
    "              random.choices(sizes, k=100),\n",
    "            ]\n",
    "\n",
    "# Declare solution in function\n",
    "def cal_t_shirt_income(n, sizes):\n",
    "    s = 0\n",
    "    m = 0\n",
    "    l = 0\n",
    "    for i in range(n):\n",
    "        size=sizes[i]\n",
    "        if size == 'S':\n",
    "            s += 1\n",
    "        elif size == 'M':\n",
    "            m += 1\n",
    "        else:\n",
    "            l += 1\n",
    "    return s*50 + m*60 + l*70"
   ]
  },
  {
   "cell_type": "code",
   "execution_count": 28,
   "metadata": {},
   "outputs": [
    {
     "name": "stdout",
     "output_type": "stream",
     "text": [
      "['S', 'M', 'L'] 180\n",
      "['S', 'S', 'M', 'L'] 230\n",
      "[] 0\n",
      "['S'] 50\n",
      "['M'] 60\n",
      "['L'] 70\n",
      "['S', 'M', 'L'] 180\n",
      "['S', 'S', 'S', 'S', 'S'] 250\n",
      "['M', 'M', 'M', 'M', 'M'] 300\n",
      "['L', 'L', 'L', 'L', 'L'] 350\n",
      "['L', 'M', 'S', 'L', 'S', 'S', 'S', 'S', 'M', 'S'] 560\n",
      "['S', 'S', 'L', 'L', 'M', 'S', 'S', 'M', 'M', 'L', 'S', 'S', 'L', 'S', 'M', 'L', 'S', 'S', 'L', 'S', 'M', 'L', 'S', 'L', 'S'] 1460\n",
      "['M', 'L', 'M', 'M', 'L', 'S', 'L', 'L', 'S', 'S', 'L', 'S', 'S', 'L', 'S', 'M', 'M', 'L', 'L', 'M', 'M', 'S', 'M', 'M', 'M', 'L', 'L', 'M', 'M', 'L', 'L', 'L', 'M', 'L', 'L', 'M', 'M', 'M', 'L', 'L', 'S', 'S', 'L', 'L', 'S', 'S', 'S', 'M', 'M', 'M'] 3070\n",
      "['L', 'L', 'M', 'L', 'S', 'L', 'L', 'M', 'L', 'M', 'M', 'M', 'M', 'L', 'M', 'S', 'M', 'M', 'M', 'S', 'S', 'S', 'S', 'M', 'M', 'M', 'L', 'M', 'L', 'S', 'L', 'L', 'M', 'M', 'M', 'L', 'L', 'S', 'M', 'L', 'M', 'L', 'L', 'M', 'M', 'L', 'S', 'S', 'M', 'S', 'L', 'L', 'L', 'M', 'S', 'L', 'S', 'M', 'S', 'S', 'M', 'M', 'S', 'L', 'L', 'M', 'S', 'M', 'S', 'L', 'S', 'L', 'M', 'L', 'S'] 4560\n",
      "['L', 'M', 'L', 'L', 'M', 'M', 'L', 'S', 'M', 'L', 'S', 'M', 'L', 'M', 'M', 'S', 'M', 'L', 'L', 'S', 'S', 'L', 'S', 'M', 'M', 'L', 'M', 'M', 'L', 'S', 'S', 'L', 'L', 'M', 'S', 'M', 'S', 'L', 'M', 'M', 'M', 'M', 'S', 'M', 'L', 'M', 'L', 'L', 'L', 'M', 'L', 'L', 'M', 'L', 'L', 'L', 'M', 'M', 'L', 'L', 'L', 'S', 'M', 'S', 'L', 'L', 'S', 'M', 'S', 'M', 'L', 'S', 'L', 'M', 'S', 'S', 'M', 'S', 'S', 'L', 'S', 'S', 'S', 'L', 'S', 'L', 'L', 'S', 'L', 'S', 'L', 'L', 'M', 'L', 'S', 'M', 'L', 'L', 'M', 'L'] 6140\n"
     ]
    }
   ],
   "source": [
    "input_path=\"input\"\n",
    "output_path=\"output\"\n",
    "\n",
    "for i in range(len(test_cases)):\n",
    "    input_file = open(input_path + \"/input\" + str(i+1) + \".txt\",\"w\")\n",
    "    input_file.writelines(str(len(test_cases[i]))+'\\n')\n",
    "    for test_case in test_cases[i]:\n",
    "        input_file.writelines(test_case+'\\n')\n",
    "    input_file.close()\n",
    "    \n",
    "    res = cal_t_shirt_income(len(test_cases[i]), test_cases[i])\n",
    "    output_file = open(output_path + \"/output\" + str(i+1) + \".txt\",\"w\")\n",
    "    output_file.writelines(str(res))\n",
    "    output_file.close()\n",
    "\n",
    "    print(test_cases[i], res)"
   ]
  },
  {
   "cell_type": "code",
   "execution_count": null,
   "metadata": {},
   "outputs": [],
   "source": []
  }
 ],
 "metadata": {
  "kernelspec": {
   "display_name": "Python 3",
   "language": "python",
   "name": "python3"
  },
  "language_info": {
   "codemirror_mode": {
    "name": "ipython",
    "version": 3
   },
   "file_extension": ".py",
   "mimetype": "text/x-python",
   "name": "python",
   "nbconvert_exporter": "python",
   "pygments_lexer": "ipython3",
   "version": "3.7.9"
  }
 },
 "nbformat": 4,
 "nbformat_minor": 4
}
