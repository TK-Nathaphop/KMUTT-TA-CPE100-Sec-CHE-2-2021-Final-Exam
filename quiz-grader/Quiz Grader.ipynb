{
 "cells": [
  {
   "cell_type": "markdown",
   "metadata": {},
   "source": [
    "# Solution"
   ]
  },
  {
   "cell_type": "code",
   "execution_count": 48,
   "metadata": {},
   "outputs": [
    {
     "name": "stdout",
     "output_type": "stream",
     "text": [
      "3\n",
      "a 5\n",
      "b 10\n",
      "c 5\n",
      "a\n",
      "c\n",
      "c\n",
      "10\n"
     ]
    }
   ],
   "source": [
    "n = int(input())\n",
    "solutions = []\n",
    "scores = []\n",
    "for i in range(n):\n",
    "    solution, score = input().split()\n",
    "    solutions.append(solution)\n",
    "    scores.append(int(score))\n",
    "\n",
    "total_score = 0\n",
    "for i in range(n):\n",
    "    answer = input()\n",
    "    if solutions[i] == answer:\n",
    "        total_score += scores[i]\n",
    "print(total_score)"
   ]
  },
  {
   "cell_type": "markdown",
   "metadata": {},
   "source": [
    "# Generate test case"
   ]
  },
  {
   "cell_type": "code",
   "execution_count": 38,
   "metadata": {},
   "outputs": [],
   "source": [
    "import random"
   ]
  },
  {
   "cell_type": "markdown",
   "metadata": {},
   "source": [
    "## Generate basic test_case"
   ]
  },
  {
   "cell_type": "code",
   "execution_count": 39,
   "metadata": {},
   "outputs": [],
   "source": [
    "solution_basic = [['a 1', 'b 1', 'a 1', 'c 1', 'd 1','a 1', 'd 1', 'b 1', 'd 1', 'c 1'],\n",
    "               ['velocity=50m/s 5', 'displacement=100m 5', 'acceleration=10m/s^2 10','mass=15km 10']]\n",
    "answer_basic = [['b', 'b', 'a', 'c', 'a', 'a', 'd', 'd', 'd', 'c'],\n",
    "               ['velocity=50m/s', 'displacement=120m', 'acceleration=20m/s^2','mass=50km']]"
   ]
  },
  {
   "cell_type": "markdown",
   "metadata": {},
   "source": [
    "## Generate test_case to follow constraint"
   ]
  },
  {
   "cell_type": "code",
   "execution_count": 40,
   "metadata": {},
   "outputs": [],
   "source": [
    "possible_choice = ['a', 'b', 'c', 'd', 'e', 'f', 'g', 'h','^^^^^/////123456', 'abcdefghiklmnopqrstuvwxyz1234567890123456789^^//ms', '1234567890123456789^^//msabcdefghiklmnopqrstuvwxyz']\n",
    "possible_score=list(range(1,51))\n",
    "\n",
    "k = [25, 50, 75, 100]"
   ]
  },
  {
   "cell_type": "markdown",
   "metadata": {},
   "source": [
    "## Correct every choice"
   ]
  },
  {
   "cell_type": "code",
   "execution_count": 41,
   "metadata": {},
   "outputs": [],
   "source": [
    "solution_true = []\n",
    "answer_true = []\n",
    "\n",
    "for i in k:\n",
    "    solutions = []\n",
    "    answers = []\n",
    "    for e in random.choices(possible_choice, k=i):\n",
    "        solutions.append(str(e)+' '+str(random.choice(possible_score)))\n",
    "        answers.append(str(e))\n",
    "    solution_true.append(solutions)\n",
    "    answer_true.append(answers)"
   ]
  },
  {
   "cell_type": "markdown",
   "metadata": {},
   "source": [
    "## Random answer"
   ]
  },
  {
   "cell_type": "code",
   "execution_count": 42,
   "metadata": {},
   "outputs": [],
   "source": [
    "solution_rand = []\n",
    "answer_rand = []\n",
    "\n",
    "percentage_correct = 0.5\n",
    "for i in k:\n",
    "    solutions = []\n",
    "    answers = []\n",
    "    for e in random.choices(possible_choice, k=i):\n",
    "        solutions.append(str(e)+' '+str(random.choice(possible_score)))\n",
    "        if random.random() < percentage_correct:\n",
    "            answers.append(str(e))\n",
    "        else:\n",
    "            answers.append(random.choice(possible_choice))\n",
    "\n",
    "    solution_rand.append(solutions)\n",
    "    answer_rand.append(answers)"
   ]
  },
  {
   "cell_type": "markdown",
   "metadata": {},
   "source": [
    "## Wrong every answer"
   ]
  },
  {
   "cell_type": "code",
   "execution_count": 43,
   "metadata": {},
   "outputs": [],
   "source": [
    "solution_false = []\n",
    "answer_false = []\n",
    "\n",
    "for i in k:\n",
    "    solutions = []\n",
    "    answers = []\n",
    "    for e in random.choices(possible_choice, k=i):\n",
    "        solutions.append(str(e)+' '+str(random.choice(possible_score)))\n",
    "        answers.append('=NO WAY TO CORRECT=')\n",
    "\n",
    "    solution_false.append(solutions)\n",
    "    answer_false.append(answers)"
   ]
  },
  {
   "cell_type": "markdown",
   "metadata": {},
   "source": [
    "## Gather all test cases"
   ]
  },
  {
   "cell_type": "code",
   "execution_count": 44,
   "metadata": {},
   "outputs": [],
   "source": [
    "# Gather all test_case\n",
    "solution_test_cases = solution_basic + solution_true +  solution_rand + solution_false\n",
    "answer_test_cases = answer_basic + answer_true + answer_rand + answer_false"
   ]
  },
  {
   "cell_type": "markdown",
   "metadata": {},
   "source": [
    "## Define function of solution"
   ]
  },
  {
   "cell_type": "code",
   "execution_count": 45,
   "metadata": {},
   "outputs": [],
   "source": [
    "def grader(n, solutions_input, answers_input):\n",
    "    solutions = []\n",
    "    scores = []\n",
    "    for i in range(n):\n",
    "        solution, score = solutions_input[i].split()\n",
    "        solutions.append(solution)\n",
    "        scores.append(int(score))\n",
    "\n",
    "    total_score = 0\n",
    "    for i in range(n):\n",
    "        answer = answers_input[i]\n",
    "        if solutions[i] == answer:\n",
    "            total_score += scores[i]\n",
    "    return total_score"
   ]
  },
  {
   "cell_type": "code",
   "execution_count": 46,
   "metadata": {},
   "outputs": [
    {
     "data": {
      "text/plain": [
       "9"
      ]
     },
     "execution_count": 46,
     "metadata": {},
     "output_type": "execute_result"
    }
   ],
   "source": [
    "# test Fn\n",
    "grader(4, ['Triangle 3', 'Square 4', 'Pentagon 5', 'Circle 1'], ['Triangle','Circle', 'Pentagon','Circle'])"
   ]
  },
  {
   "cell_type": "code",
   "execution_count": 47,
   "metadata": {
    "scrolled": true
   },
   "outputs": [
    {
     "name": "stdout",
     "output_type": "stream",
     "text": [
      "File:1.txt 7\n",
      "File:2.txt 5\n",
      "File:3.txt 696\n",
      "File:4.txt 1312\n",
      "File:5.txt 1956\n",
      "File:6.txt 2353\n",
      "File:7.txt 284\n",
      "File:8.txt 777\n",
      "File:9.txt 979\n",
      "File:10.txt 1419\n",
      "File:11.txt 0\n",
      "File:12.txt 0\n",
      "File:13.txt 0\n",
      "File:14.txt 0\n"
     ]
    }
   ],
   "source": [
    "input_path=\"input\"\n",
    "output_path=\"output\"\n",
    "\n",
    "for i in range(len(solution_test_cases)):\n",
    "    input_file = open(input_path + \"/input\" + str(i+1) + \".txt\",\"w\")\n",
    "    \n",
    "    # Write solution\n",
    "    input_file.writelines(str(len(solution_test_cases[i]))+'\\n')\n",
    "    for test_case in solution_test_cases[i]:\n",
    "        input_file.writelines(test_case + '\\n')\n",
    "    \n",
    "    # Write answer\n",
    "    for test_case in answer_test_cases[i]:\n",
    "        input_file.writelines(test_case + '\\n')\n",
    "    input_file.close()\n",
    "    \n",
    "    res = grader(len(solution_test_cases[i]),\n",
    "                       solution_test_cases[i],\n",
    "                       answer_test_cases[i]\n",
    "                      )\n",
    "\n",
    "    output_file = open(output_path + \"/output\" + str(i+1) + \".txt\",\"w\")\n",
    "    output_file.writelines(str(res))\n",
    "    output_file.close()\n",
    "\n",
    "    print(\"File:\" + str(i+1) + \".txt\", res)"
   ]
  },
  {
   "cell_type": "code",
   "execution_count": null,
   "metadata": {},
   "outputs": [],
   "source": []
  },
  {
   "cell_type": "code",
   "execution_count": null,
   "metadata": {},
   "outputs": [],
   "source": []
  }
 ],
 "metadata": {
  "kernelspec": {
   "display_name": "Python 3",
   "language": "python",
   "name": "python3"
  },
  "language_info": {
   "codemirror_mode": {
    "name": "ipython",
    "version": 3
   },
   "file_extension": ".py",
   "mimetype": "text/x-python",
   "name": "python",
   "nbconvert_exporter": "python",
   "pygments_lexer": "ipython3",
   "version": "3.7.9"
  }
 },
 "nbformat": 4,
 "nbformat_minor": 4
}
