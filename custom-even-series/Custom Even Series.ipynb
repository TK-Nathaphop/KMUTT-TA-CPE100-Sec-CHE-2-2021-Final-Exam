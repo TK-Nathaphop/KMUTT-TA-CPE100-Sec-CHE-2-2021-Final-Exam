{
 "cells": [
  {
   "cell_type": "markdown",
   "metadata": {},
   "source": [
    "# Solution"
   ]
  },
  {
   "cell_type": "code",
   "execution_count": 3,
   "metadata": {},
   "outputs": [
    {
     "name": "stdout",
     "output_type": "stream",
     "text": [
      "3\n",
      "14\n"
     ]
    }
   ],
   "source": [
    "def custom_even_sequence(n):\n",
    "    debug = True\n",
    "    count = 0\n",
    "    i = 1\n",
    "    r1=0\n",
    "    r2=0\n",
    "    sequence = []\n",
    "    while count < n:\n",
    "        if i*2 % 3 == 0 and i*2 % 10 == 0:\n",
    "            r0 = r1*r2\n",
    "            sequence.append(r0)\n",
    "            r2 = r1\n",
    "            r1 = r0\n",
    "            count += 1    \n",
    "        elif i*2 % 10 == 0:\n",
    "            r0 = r1+r2\n",
    "            sequence.append(r0)\n",
    "            r2 = r1\n",
    "            r1 = r0\n",
    "            count += 1\n",
    "        elif i*2 % 3 == 0:\n",
    "            pass\n",
    "        else:\n",
    "            r0 = i*2\n",
    "            sequence.append(r0)\n",
    "            r2 = r1\n",
    "            r1 = r0\n",
    "            count+=1\n",
    "        i += 1\n",
    "    return sequence\n",
    "\n",
    "def custom_even_series(n):\n",
    "    return sum(custom_even_sequence(n))\n",
    "\n",
    "n = int(input())\n",
    "print(custom_even_series(n))"
   ]
  },
  {
   "cell_type": "markdown",
   "metadata": {},
   "source": [
    "## Minor unit test"
   ]
  },
  {
   "cell_type": "code",
   "execution_count": 7,
   "metadata": {},
   "outputs": [
    {
     "data": {
      "text/plain": [
       "4854"
      ]
     },
     "execution_count": 7,
     "metadata": {},
     "output_type": "execute_result"
    }
   ],
   "source": [
    "x=[2,4,8,12,14,16,30,22,26,28,728,32, 34, 38, 72, 44, 46, 90, 52, 56, 58, 3248, 62, 64, 68]\n",
    "sum(x[:n])"
   ]
  },
  {
   "cell_type": "code",
   "execution_count": 13,
   "metadata": {},
   "outputs": [
    {
     "name": "stdout",
     "output_type": "stream",
     "text": [
      "[2, 4, 8, 12, 14, 16, 30, 22, 26, 28, 728, 32, 34, 38, 72, 44, 46, 90, 52, 56, 58, 3248, 62, 64, 68, 132, 74, 76, 150, 82, 86, 88, 7568, 92, 94, 98, 192, 104, 106, 210, 112, 116, 118, 13688, 122, 124, 128, 252, 134, 136, 270, 142, 146, 148, 21608, 152, 154, 158, 312, 164, 166, 330, 172, 176, 178, 31328, 182, 184, 188, 372, 194, 196, 390, 202, 206, 208, 42848, 212, 214, 218, 432, 224, 226, 450, 232, 236, 238, 56168, 242, 244, 248, 492, 254, 256, 510, 262, 266, 268, 71288, 272]\n",
      "=============\n",
      "3 12\n",
      "6 30\n",
      "14 72\n",
      "17 90\n",
      "25 132\n",
      "28 150\n",
      "36 192\n",
      "39 210\n",
      "47 252\n",
      "50 270\n",
      "58 312\n",
      "61 330\n",
      "69 372\n",
      "72 390\n",
      "80 432\n",
      "83 450\n",
      "91 492\n",
      "94 510\n"
     ]
    }
   ],
   "source": [
    "n=100\n",
    "seq = custom_even_sequence(n)\n",
    "print(seq)\n",
    "print(\"=============\")\n",
    "\n",
    "for i in range(len(seq)):\n",
    "    if  seq[i] % 3 == 0:\n",
    "        print(i, seq[i])"
   ]
  },
  {
   "cell_type": "markdown",
   "metadata": {},
   "source": [
    "# Generate input and output\n",
    "Requirement: Create folder in directory name `input` and `output`"
   ]
  },
  {
   "cell_type": "code",
   "execution_count": 28,
   "metadata": {},
   "outputs": [],
   "source": [
    "n = 100\n",
    "test_cases = list(range(1, n+1))"
   ]
  },
  {
   "cell_type": "code",
   "execution_count": 30,
   "metadata": {},
   "outputs": [
    {
     "name": "stdout",
     "output_type": "stream",
     "text": [
      "1 2\n",
      "2 6\n",
      "3 14\n",
      "4 26\n",
      "5 40\n",
      "6 56\n",
      "7 86\n",
      "8 108\n",
      "9 134\n",
      "10 162\n",
      "11 890\n",
      "12 922\n",
      "13 956\n",
      "14 994\n",
      "15 1066\n",
      "16 1110\n",
      "17 1156\n",
      "18 1246\n",
      "19 1298\n",
      "20 1354\n",
      "21 1412\n",
      "22 4660\n",
      "23 4722\n",
      "24 4786\n",
      "25 4854\n",
      "26 4986\n",
      "27 5060\n",
      "28 5136\n",
      "29 5286\n",
      "30 5368\n",
      "31 5454\n",
      "32 5542\n",
      "33 13110\n",
      "34 13202\n",
      "35 13296\n",
      "36 13394\n",
      "37 13586\n",
      "38 13690\n",
      "39 13796\n",
      "40 14006\n",
      "41 14118\n",
      "42 14234\n",
      "43 14352\n",
      "44 28040\n",
      "45 28162\n",
      "46 28286\n",
      "47 28414\n",
      "48 28666\n",
      "49 28800\n",
      "50 28936\n",
      "51 29206\n",
      "52 29348\n",
      "53 29494\n",
      "54 29642\n",
      "55 51250\n",
      "56 51402\n",
      "57 51556\n",
      "58 51714\n",
      "59 52026\n",
      "60 52190\n",
      "61 52356\n",
      "62 52686\n",
      "63 52858\n",
      "64 53034\n",
      "65 53212\n",
      "66 84540\n",
      "67 84722\n",
      "68 84906\n",
      "69 85094\n",
      "70 85466\n",
      "71 85660\n",
      "72 85856\n",
      "73 86246\n",
      "74 86448\n",
      "75 86654\n",
      "76 86862\n",
      "77 129710\n",
      "78 129922\n",
      "79 130136\n",
      "80 130354\n",
      "81 130786\n",
      "82 131010\n",
      "83 131236\n",
      "84 131686\n",
      "85 131918\n",
      "86 132154\n",
      "87 132392\n",
      "88 188560\n",
      "89 188802\n",
      "90 189046\n",
      "91 189294\n",
      "92 189786\n",
      "93 190040\n",
      "94 190296\n",
      "95 190806\n",
      "96 191068\n",
      "97 191334\n",
      "98 191602\n",
      "99 262890\n",
      "100 263162\n"
     ]
    }
   ],
   "source": [
    "input_path=\"input\"\n",
    "output_path=\"output\"\n",
    "\n",
    "for i in range(len(test_cases)):\n",
    "    input_file = open(input_path + \"/input\" + str(i+1) + \".txt\",\"w\")\n",
    "    input_file.writelines(str(test_cases[i]))\n",
    "    input_file.close()\n",
    "    \n",
    "    res = custom_even_series(test_cases[i])\n",
    "    output_file = open(output_path + \"/output\" + str(i+1) + \".txt\",\"w\")\n",
    "    output_file.writelines(str(res))\n",
    "    output_file.close()\n",
    "\n",
    "    print(test_cases[i], res)"
   ]
  },
  {
   "cell_type": "code",
   "execution_count": null,
   "metadata": {},
   "outputs": [],
   "source": []
  }
 ],
 "metadata": {
  "kernelspec": {
   "display_name": "Python 3",
   "language": "python",
   "name": "python3"
  },
  "language_info": {
   "codemirror_mode": {
    "name": "ipython",
    "version": 3
   },
   "file_extension": ".py",
   "mimetype": "text/x-python",
   "name": "python",
   "nbconvert_exporter": "python",
   "pygments_lexer": "ipython3",
   "version": "3.7.9"
  }
 },
 "nbformat": 4,
 "nbformat_minor": 4
}
